{
 "cells": [
  {
   "cell_type": "code",
   "execution_count": 1,
   "metadata": {
    "collapsed": false
   },
   "outputs": [
    {
     "ename": "NameError",
     "evalue": "name 'df' is not defined",
     "output_type": "error",
     "traceback": [
      "\u001b[0;31m---------------------------------------------------------------------------\u001b[0m",
      "\u001b[0;31mNameError\u001b[0m                                 Traceback (most recent call last)",
      "\u001b[0;32m/tmp/ipykernel_421/372699279.py\u001b[0m in \u001b[0;36m<cell line: 97>\u001b[0;34m()\u001b[0m\n\u001b[1;32m     95\u001b[0m                     \u001b[0meliminated_candidates\u001b[0m\u001b[0;34m.\u001b[0m\u001b[0mappend\u001b[0m\u001b[0;34m(\u001b[0m\u001b[0mvot\u001b[0m\u001b[0;34m[\u001b[0m\u001b[0;36m1\u001b[0m\u001b[0;34m]\u001b[0m\u001b[0;34m)\u001b[0m\u001b[0;34m\u001b[0m\u001b[0;34m\u001b[0m\u001b[0m\n\u001b[1;32m     96\u001b[0m \u001b[0;34m\u001b[0m\u001b[0m\n\u001b[0;32m---> 97\u001b[0;31m \u001b[0mw\u001b[0m \u001b[0;34m=\u001b[0m \u001b[0mirv\u001b[0m\u001b[0;34m(\u001b[0m\u001b[0mdf\u001b[0m\u001b[0;34m)\u001b[0m\u001b[0;34m\u001b[0m\u001b[0;34m\u001b[0m\u001b[0m\n\u001b[0m\u001b[1;32m     98\u001b[0m \u001b[0;32mif\u001b[0m \u001b[0misinstance\u001b[0m\u001b[0;34m(\u001b[0m\u001b[0mw\u001b[0m\u001b[0;34m,\u001b[0m \u001b[0mlist\u001b[0m\u001b[0;34m)\u001b[0m\u001b[0;34m:\u001b[0m\u001b[0;34m\u001b[0m\u001b[0;34m\u001b[0m\u001b[0m\n\u001b[1;32m     99\u001b[0m     \u001b[0mprint\u001b[0m\u001b[0;34m(\u001b[0m\u001b[0;34m'TIE between '\u001b[0m\u001b[0;34m,\u001b[0m \u001b[0mend\u001b[0m \u001b[0;34m=\u001b[0m \u001b[0;34m''\u001b[0m\u001b[0;34m)\u001b[0m\u001b[0;34m\u001b[0m\u001b[0;34m\u001b[0m\u001b[0m\n",
      "\u001b[0;31mNameError\u001b[0m: name 'df' is not defined"
     ]
    }
   ],
   "source": [
    "import pandas as pd\n",
    "import numpy as np\n",
    "df = pd.read_csv('oes_pres_votes_2021.csv')\n",
    "\n",
    "def irv(df):\n",
    "    '''\n",
    "    Finds the winner using an instant runoff voting system\n",
    "\n",
    "    Parameters\n",
    "    ----------\n",
    "    df: pandas data frame of voting results\n",
    "\n",
    "    Returns\n",
    "    -------\n",
    "    votes: tuple list of (votes, candidate) in the\n",
    "        case of a tie\n",
    "    sorted(votes)[-1][1]: string of the name of the\n",
    "        winner\n",
    "    sorted(first_choice_votes)[-1][1]: string of the\n",
    "        name of the winner\n",
    "    '''\n",
    "\n",
    "    df = df.fillna('no')\n",
    "    number_of_voters = len(df)\n",
    "\n",
    "    # creating a list of candidates\n",
    "    li = []\n",
    "    for c in range(1, len(df.columns)+1):\n",
    "        li += list(df[f'Choice{c}'].values)\n",
    "    candidates = set(li)\n",
    "    eliminated_candidates = []\n",
    "    if 'no' in candidates:\n",
    "        candidates.remove('no')\n",
    "\n",
    "    # looping through to redistribute votes\n",
    "    for round_ in range(1, len(candidates) + 1):\n",
    "        voter_id = 0\n",
    "\n",
    "        # dictionary of candidate:votes\n",
    "        votes_dictionary = {}\n",
    "        for cand in candidates:\n",
    "            votes_dictionary[cand] = 0\n",
    "\n",
    "        # looping through first choice votes\n",
    "        for vot in list(df[f'Choice1'].values):\n",
    "            i = 0\n",
    "\n",
    "            # while the choice candidate is in the eliminated list\n",
    "            while vot in eliminated_candidates:\n",
    "                if i < len(df.columns):\n",
    "\n",
    "                    # move to next choice candidate\n",
    "                    vot = df.iloc[voter_id][f'Choice{i + 1}']\n",
    "                else:\n",
    "\n",
    "                    # all choice candidates have been eliminated\n",
    "                    vot = 'no'\n",
    "                i += 1\n",
    "            if vot != 'no':\n",
    "                # adding the vote to the dictionary\n",
    "                votes_dictionary[vot] += 1\n",
    "            voter_id += 1\n",
    "\n",
    "        # printing vote information\n",
    "        print(f\"Round {round_}:\")\n",
    "        for cand in candidates:\n",
    "            percentage_of_votes = (votes_dictionary[cand]/number_of_voters)*100\n",
    "            if percentage_of_votes != 0:\n",
    "                print(f\"{round(percentage_of_votes, 2)}% {cand} \\\n",
    "({votes_dictionary[cand]} votes)\")\n",
    "        print()\n",
    "\n",
    "        # creating a tuple list of (votes, candidate)\n",
    "        # (easier to sort through than a dictionary)\n",
    "        votes = []\n",
    "        for cand in candidates:\n",
    "            if cand not in eliminated_candidates:\n",
    "                votes.append((votes_dictionary[cand], cand))\n",
    "\n",
    "        # check if the most amount of votes > 50%\n",
    "        if sorted(votes)[-1][0] > (.5*number_of_voters):\n",
    "            return sorted(votes)[-1][1]\n",
    "\n",
    "        # eliminating the candidate with the fewest votes\n",
    "        elif len(votes) > 1:\n",
    "            minimum_number_of_votes = sorted(votes)[0][0]\n",
    "            maximum_number_of_votes = sorted(votes)[-1][0]\n",
    "            if minimum_number_of_votes == maximum_number_of_votes:\n",
    "                first_choice_votes = []\n",
    "                for vote_cand in sorted(votes):\n",
    "                    first_choice_votes.append((df['Choice1'].value_counts()\\\n",
    "                                               [vote_cand[1]], vote_cand[0]))\n",
    "                if sorted(first_choice_votes)[0] == sorted(first_choice_votes)[-1]:\n",
    "                    return votes\n",
    "                else:\n",
    "                    return sorted(first_choice_votes)[-1][1]\n",
    "            for vot in votes:\n",
    "                if vot[0] == minimum_number_of_votes:\n",
    "                    eliminated_candidates.append(vot[1])\n",
    "\n",
    "w = irv(df)\n",
    "if isinstance(w, list):\n",
    "    print('TIE between ', end = '')\n",
    "    if len(w) == 2:\n",
    "        print(f\"{w[0][1]} and {w[1][1]}\", end='')\n",
    "    else:\n",
    "        for wi in w:\n",
    "            if wi != w[-1]:\n",
    "                print(f\"{wi[1]}, \", end='')\n",
    "            else:\n",
    "                print(f\"and {wi[1]}\", end='')\n",
    "else:\n",
    "    print(f\"\\n{w} is the winner.\")"
   ]
  },
  {
   "cell_type": "code",
   "execution_count": 0,
   "metadata": {
    "collapsed": false
   },
   "outputs": [
   ],
   "source": [
   ]
  }
 ],
 "metadata": {
  "kernelspec": {
   "display_name": "Python 3 (system-wide)",
   "language": "python",
   "metadata": {
    "cocalc": {
     "description": "Python 3 programming language",
     "priority": 100,
     "url": "https://www.python.org/"
    }
   },
   "name": "python3",
   "resource_dir": "/ext/jupyter/kernels/python3"
  },
  "language_info": {
   "codemirror_mode": {
    "name": "ipython",
    "version": 3
   },
   "file_extension": ".py",
   "mimetype": "text/x-python",
   "name": "python",
   "nbconvert_exporter": "python",
   "pygments_lexer": "ipython3",
   "version": "3.8.10"
  }
 },
 "nbformat": 4,
 "nbformat_minor": 4
}